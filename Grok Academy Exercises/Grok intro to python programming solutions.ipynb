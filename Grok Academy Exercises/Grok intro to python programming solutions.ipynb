{
 "cells": [
  {
   "cell_type": "markdown",
   "metadata": {},
   "source": [
    "Intro to python \"Hello world!\" solution - mod 1 "
   ]
  },
  {
   "cell_type": "code",
   "execution_count": null,
   "metadata": {},
   "outputs": [],
   "source": [
    "print('Hello, World!')"
   ]
  },
  {
   "cell_type": "markdown",
   "metadata": {},
   "source": [
    "Intro to python \"Hello to you, too\" solution - mod 1"
   ]
  },
  {
   "cell_type": "code",
   "execution_count": null,
   "metadata": {},
   "outputs": [],
   "source": [
    "name = input(\"What is your name? \")\n",
    "print(\"Hello,\", name)"
   ]
  },
  {
   "cell_type": "markdown",
   "metadata": {},
   "source": [
    "Intro to python \"Hello with attitude\" solution - mod 1 "
   ]
  },
  {
   "cell_type": "code",
   "execution_count": null,
   "metadata": {},
   "outputs": [],
   "source": [
    "name = input(\"What is your name? \")\n",
    "print(\"So you call yourself '\" + name + \"' huh?\")"
   ]
  },
  {
   "cell_type": "markdown",
   "metadata": {},
   "source": [
    "Intro to python \"Hello to you three!\" solution - mod 1"
   ]
  },
  {
   "cell_type": "code",
   "execution_count": null,
   "metadata": {},
   "outputs": [],
   "source": [
    "name1 = input(\"Friend: \")\n",
    "name2 = input(\"Friend: \")\n",
    "name3 = input(\"Friend: \")\n",
    "\n",
    "print(\"Hello, young \" + name1)\n",
    "print(\"Hello, wise \" + name2)\n",
    "print(\"Hello, brave \" + name3)"
   ]
  },
  {
   "cell_type": "markdown",
   "metadata": {},
   "source": [
    "Intro to python \"Length of a string\" solution - mod 2"
   ]
  },
  {
   "cell_type": "code",
   "execution_count": null,
   "metadata": {},
   "outputs": [],
   "source": [
    "message = input(\"Enter text: \") \n",
    "print(len(message))"
   ]
  },
  {
   "cell_type": "markdown",
   "metadata": {},
   "source": [
    "Intro to python \"1-Up\" solution - mod 2"
   ]
  },
  {
   "cell_type": "code",
   "execution_count": null,
   "metadata": {},
   "outputs": [],
   "source": [
    "number = int(input('Please enter a number: '))\n",
    "new_number = number + 1\n",
    "print (new_number)"
   ]
  },
  {
   "cell_type": "markdown",
   "metadata": {},
   "source": [
    "Intro to python \"Python ^_^\" solution - mod 2"
   ]
  },
  {
   "cell_type": "code",
   "execution_count": null,
   "metadata": {},
   "outputs": [],
   "source": [
    "b = int(input('Enter a number: '))\n",
    "a = b*'_'\n",
    "print('^' + a + '^')"
   ]
  },
  {
   "cell_type": "markdown",
   "metadata": {},
   "source": [
    "Intro to python \"Repeaterbot\" solution - mod 2"
   ]
  },
  {
   "cell_type": "code",
   "execution_count": null,
   "metadata": {},
   "outputs": [],
   "source": [
    "s = input(\"What do you want me to say? \")\n",
    "c = input(\"How many times do you want me to say it? \")\n",
    "word = int(c)\n",
    "d = s*word\n",
    "print(d)"
   ]
  },
  {
   "cell_type": "markdown",
   "metadata": {},
   "source": [
    "Intro to python \"Open sesame!\" solution - mod 3"
   ]
  },
  {
   "cell_type": "code",
   "execution_count": null,
   "metadata": {},
   "outputs": [],
   "source": [
    "password = input(\"What is the password Ali? \")\n",
    "if password == \"Open sesame!\":\n",
    "  print(\"The cave door opens!\")"
   ]
  },
  {
   "cell_type": "markdown",
   "metadata": {},
   "source": [
    "Intro to python \"Access denied\" solution - mod 3"
   ]
  },
  {
   "cell_type": "code",
   "execution_count": null,
   "metadata": {},
   "outputs": [],
   "source": [
    "access = input(\"Enter password: \")\n",
    "if access == \"chEEzburg3rz\":\n",
    "  print(\"Access granted\")\n",
    "else:\n",
    "  print(\"Access denied\")"
   ]
  },
  {
   "cell_type": "markdown",
   "metadata": {},
   "source": [
    "Intro to python \"In the black\" solution - mod 3"
   ]
  },
  {
   "cell_type": "code",
   "execution_count": null,
   "metadata": {},
   "outputs": [],
   "source": [
    "n = int(input(\"Number: \"))\n",
    "if n >= 0 :\n",
    "  print(\"In the black :)\")\n",
    "else:\n",
    "  print(\"In the red :(\")"
   ]
  },
  {
   "cell_type": "markdown",
   "metadata": {},
   "source": [
    "Intro to python \"Method of transportation\" solution - mod 3"
   ]
  },
  {
   "cell_type": "code",
   "execution_count": null,
   "metadata": {},
   "outputs": [],
   "source": [
    "\n",
    "is_raining = input(\"Is it currently raining? \")\n",
    "\n",
    "if is_raining == \"Yes\":\n",
    "  print(\"You should take the bus.\")\n",
    "elif is_raining == \"No\":\n",
    "  n = int(input(\"How far in km do you need to travel? \"))\n",
    "  if n > 10:\n",
    "    print(\"You should take the bus.\")\n",
    "  elif 2 < n < 10:\n",
    "    print(\"You should ride your bike.\")\n",
    "  elif n < 2 :\n",
    "    print(\"You should walk.\")"
   ]
  },
  {
   "cell_type": "markdown",
   "metadata": {},
   "source": [
    "Intro to python \"Aardvark!\" solution - mod 4"
   ]
  },
  {
   "cell_type": "code",
   "execution_count": null,
   "metadata": {},
   "outputs": [],
   "source": [
    "word = input('Enter line: ')\n",
    "if 'aardvark' in word:\n",
    "  print('Aardvark!')\n",
    "else:\n",
    "  print('No aardvarks here :(')"
   ]
  },
  {
   "cell_type": "markdown",
   "metadata": {},
   "source": [
    "Intro to python \"Don't SHOUT!\" solution - mod 4"
   ]
  },
  {
   "cell_type": "code",
   "execution_count": null,
   "metadata": {},
   "outputs": [],
   "source": [
    "phrase = input(\"Loud: \")\n",
    "print(\"Quiet:\",phrase.lower())"
   ]
  },
  {
   "cell_type": "markdown",
   "metadata": {},
   "source": [
    "Intro to python \"Broken keyboard\" solution - mod 4"
   ]
  },
  {
   "cell_type": "code",
   "execution_count": null,
   "metadata": {},
   "outputs": [],
   "source": [
    "msg = input(\"What did she say? \")\n",
    "msg = msg.replace(\"%%\",\"a\")\n",
    "msg = msg.replace(\"###\",\"o\")\n",
    "msg = msg.replace(\"##\",\"e\")\n",
    "print(\"She meant to say:\",msg)"
   ]
  },
  {
   "cell_type": "markdown",
   "metadata": {},
   "source": [
    "Intro to python \"Short/Long Names\" solution - mod 4"
   ]
  },
  {
   "cell_type": "code",
   "execution_count": null,
   "metadata": {},
   "outputs": [],
   "source": [
    "name = input(\"Enter your name: \")\n",
    "n = len(name)\n",
    "if n<= 3:\n",
    "  print(\"Hi \" + name + \", you have a short name.\")\n",
    "elif 4 <= n <= 8:\n",
    "  print(\"Hi \" + name + \", nice to meet you.\")\n",
    "elif n > 8:\n",
    "  print(\"Hi \" + name + \", you have a long name.\")"
   ]
  },
  {
   "cell_type": "markdown",
   "metadata": {},
   "source": [
    "Intro to python \"Give me a G!\" solution - mod 5"
   ]
  },
  {
   "cell_type": "code",
   "execution_count": null,
   "metadata": {},
   "outputs": [],
   "source": [
    "phrase = input('Cheer: ')\n",
    "for c in phrase:\n",
    "  print('Give me a ' + c + ', ' + c + '!')\n",
    "print('What does it spell?')\n",
    "new_phrase = phrase.upper()\n",
    "print(new_phrase)"
   ]
  },
  {
   "cell_type": "markdown",
   "metadata": {},
   "source": [
    "Intro to python \"Count to n\" solution - mod 5"
   ]
  },
  {
   "cell_type": "code",
   "execution_count": null,
   "metadata": {},
   "outputs": [],
   "source": [
    "number = int( input('Enter a number: ') )\n",
    "limit = number + 1\n",
    "for n in range (1, limit):\n",
    "  print(n)"
   ]
  },
  {
   "cell_type": "markdown",
   "metadata": {},
   "source": [
    "Intro to python \"Speaking Backwards!\" solution - mod 5"
   ]
  },
  {
   "cell_type": "code",
   "execution_count": null,
   "metadata": {},
   "outputs": [],
   "source": [
    "text = input(\"Line: \")\n",
    "backwards = ''\n",
    "beginning = len(text) - 1\n",
    "for i in range(beginning, -1, -1):\n",
    "  # print(i)\n",
    "  backwards = backwards + text[i]\n",
    "print(backwards)"
   ]
  },
  {
   "cell_type": "markdown",
   "metadata": {},
   "source": [
    "Intro to python \"Secret Agent\" solution - mod 5"
   ]
  },
  {
   "cell_type": "code",
   "execution_count": null,
   "metadata": {},
   "outputs": [],
   "source": [
    "hidden_message = input('Message? ')\n",
    "limit = len(hidden_message) - 1\n",
    "message = \"\"\n",
    "for i in range(0, limit, 3): \n",
    "    # print(hidden_message[i])\n",
    "    \n",
    "    if i == 0:\n",
    "      # Add first character:\n",
    "      message = hidden_message[i]  \n",
    "    else:\n",
    "      # Tack on an additional character and a space:\n",
    "      message = message + \" \" + hidden_message[i]\n",
    "  print(message)"
   ]
  },
  {
   "cell_type": "markdown",
   "metadata": {},
   "source": [
    "Intro to python \"Halve this\" solution - mod 6"
   ]
  },
  {
   "cell_type": "code",
   "execution_count": null,
   "metadata": {},
   "outputs": [],
   "source": [
    "number = int(input(\"Number: \"))\n",
    "print(\"Half number:\", number/2)"
   ]
  },
  {
   "cell_type": "markdown",
   "metadata": {},
   "source": [
    "Intro to python \"Weather report\" solution - mod 6"
   ]
  },
  {
   "cell_type": "code",
   "execution_count": null,
   "metadata": {},
   "outputs": [],
   "source": [
    "days_rain = input(\"Which days had rain? \")\n",
    "print(\"Number of days without rain:\", 7 -  len(days_rain.split()))"
   ]
  },
  {
   "cell_type": "markdown",
   "metadata": {},
   "source": [
    "Intro to python \"Sorted!\" solution - mod 6"
   ]
  },
  {
   "cell_type": "code",
   "execution_count": null,
   "metadata": {},
   "outputs": [],
   "source": [
    "data = input(\"Students: \")\n",
    "print(\"Class Roll\")\n",
    "\n",
    "students = data.split()\n",
    "students.sort() # Sort itself and save.\n",
    "\n",
    "for student in students:\n",
    "  print(student)"
   ]
  },
  {
   "cell_type": "markdown",
   "metadata": {},
   "source": [
    "Intro to python \"Did I spend too much?\" solution - mod 6"
   ]
  },
  {
   "cell_type": "code",
   "execution_count": null,
   "metadata": {},
   "outputs": [],
   "source": [
    "data = (input(\"Enter the expenses: \")).split()\n",
    "total = 0\n",
    "for i in data:\n",
    "  total += int(i) \n",
    "print(\"Total: $\" + str(total))"
   ]
  },
  {
   "cell_type": "markdown",
   "metadata": {},
   "source": [
    "Intro to python \"Lift Off!\" solution - mod 7"
   ]
  },
  {
   "cell_type": "code",
   "execution_count": null,
   "metadata": {},
   "outputs": [],
   "source": [
    "j = int(input(\"Time to launch: \"))\n",
    "print(\"Counting down ...\")\n",
    "while j > 0:\n",
    "  print(j, \"...\")\n",
    "  j = j - 1\n",
    "print(\"Lift Off!\")"
   ]
  },
  {
   "cell_type": "markdown",
   "metadata": {},
   "source": [
    "Intro to python \"Guessing game\" solution - mod 7"
   ]
  },
  {
   "cell_type": "code",
   "execution_count": null,
   "metadata": {},
   "outputs": [],
   "source": [
    "print(\"What is my favourite food?\")\n",
    "line = input(\"Guess? \")\n",
    "while line != 'electricity':\n",
    "  print(\"Not even close.\")\n",
    "  line = input(\"Guess? \")\n",
    "print(\"You guessed it! Buzzzz\")"
   ]
  },
  {
   "cell_type": "markdown",
   "metadata": {},
   "source": [
    "Intro to python \"Up the lift\" solution - mod 7"
   ]
  },
  {
   "cell_type": "code",
   "execution_count": null,
   "metadata": {},
   "outputs": [],
   "source": [
    "location = int(input(\"Current floor: \"))\n",
    "new_location = int(input(\"Destination floor: \"))\n",
    "while location <= new_location:\n",
    "  print(\"Level\", str(location))\n",
    "  location += 1"
   ]
  },
  {
   "cell_type": "markdown",
   "metadata": {},
   "source": [
    "Intro to python \"Up the Downstair\" solution - mod 7"
   ]
  },
  {
   "cell_type": "code",
   "execution_count": null,
   "metadata": {},
   "outputs": [],
   "source": [
    "max_steps = int(input(\"How many steps? \"))\n",
    "print(\"__\")\n",
    "steps_taken = 1\n",
    "output = \"\"\n",
    "while steps_taken < max_steps:\n",
    "  output = \"\"\n",
    "  for i in range(0, steps_taken):\n",
    "    output += \"  \"\n",
    "  print(output + \"|_\") \n",
    "  steps_taken += 1\n",
    "end = output.replace('  ', '__')\n",
    "print(end + \"__|\")\n",
    "  "
   ]
  },
  {
   "cell_type": "markdown",
   "metadata": {},
   "source": [
    "Intro to python \"How many words?\" solution - mod 8"
   ]
  },
  {
   "cell_type": "code",
   "execution_count": null,
   "metadata": {},
   "outputs": [],
   "source": [
    "all_words = []               # Every word that the user types in.\n",
    "unique_words = []               # Only add 1 of each word found, skip if already in.\n",
    "word = input(\"Word: \")  # Current word from the user\n",
    "\n",
    "while word != '':\n",
    "  all_words.append(word)\n",
    "  \n",
    "  if word not in unique_words:\n",
    "    unique_words.append(word)\n",
    "    \n",
    "  word = input(\"Word: \")\n",
    "n = str(len(unique_words))\n",
    "print(\"You know \" + n + \" unique word(s)!\")"
   ]
  },
  {
   "cell_type": "markdown",
   "metadata": {},
   "source": [
    "Intro to python \"One car, two car, red car, blue car!\" solution - mod 8"
   ]
  },
  {
   "cell_type": "code",
   "execution_count": null,
   "metadata": {},
   "outputs": [],
   "source": [
    "cars = input(\"Cars: \")  # String of cars\n",
    "cars = cars.split()     # Make the string into a list for each word.\n",
    "        \n",
    "red  = 0                # Count how many red\n",
    "blue = 0                # Count how many blue\n",
    "for i in cars:\n",
    "    if i == 'red':\n",
    "        red += 1\n",
    "    if i == 'blue':\n",
    "        blue += 1\n",
    "\n",
    "print(\"red: \"  + str(red))\n",
    "print(\"blue: \" + str(blue))"
   ]
  },
  {
   "cell_type": "markdown",
   "metadata": {},
   "source": [
    "Intro to python \"BaSe fOO ThE AttAcK\" solution - mod 8"
   ]
  },
  {
   "cell_type": "code",
   "execution_count": null,
   "metadata": {},
   "outputs": [],
   "source": [
    "line = input(\"code: \")\n",
    "words = line.split()\n",
    "backwards = list()\n",
    "beginning = len(words) - 1\n",
    "\n",
    "for i in range (beginning, -1, -1):\n",
    "  word = words[i]\n",
    "  \n",
    "  if word[0].isupper():\n",
    "    backwards.append(word.lower())\n",
    "\n",
    "  \n",
    "  \n",
    "print(\"says:\", ' '.join(backwards))\n",
    "\n",
    "\n",
    "\n",
    "# print(\"says:\", translation.lower())"
   ]
  },
  {
   "cell_type": "markdown",
   "metadata": {},
   "source": [
    "Intro to python \"Yuor biran is an azamnig thnig\" solution - mod 8"
   ]
  },
  {
   "cell_type": "code",
   "execution_count": null,
   "metadata": {},
   "outputs": [],
   "source": [
    "input_string = input('Enter words: ')\n",
    "words        = input_string.split()\n",
    "word_1       = words[0]\n",
    "word_2       = words[1]\n",
    "word_2_chars = word_2\n",
    "\n",
    "is_anagram = True\n",
    "\n",
    "if len(word_1) == len(word_2):\n",
    "  \n",
    "  # Check if each character in word_1 is in word_2:\n",
    "  for c in word_1:\n",
    "    if c in word_2_chars:\n",
    "      word_2_chars = word_2_chars.replace(c, '', 1)\n",
    "    else:\n",
    "      is_anagram = False\n",
    "    \n",
    "  \n",
    "  if is_anagram == True:\n",
    "    if ( word_1[0] == word_2[0] ) and ( word_1[-1] == word_2[-1] ):\n",
    "      print('Super Anagram!')\n",
    "    else:\n",
    "      print('Huh?') \n",
    "  else:\n",
    "    print('Huh?')  \n",
    "\n",
    "else:\n",
    "  print('Huh?')  "
   ]
  }
 ],
 "metadata": {
  "language_info": {
   "name": "python"
  }
 },
 "nbformat": 4,
 "nbformat_minor": 2
}
