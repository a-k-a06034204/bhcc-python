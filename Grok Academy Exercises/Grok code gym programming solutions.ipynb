{
 "cells": [
  {
   "cell_type": "markdown",
   "metadata": {},
   "source": [
    "Coding python gym \"Dinosaur\" solution - mod 'Basic'"
   ]
  },
  {
   "cell_type": "code",
   "execution_count": null,
   "metadata": {},
   "outputs": [],
   "source": [
    "print(\"Tyrannosaurus Rex\")"
   ]
  },
  {
   "cell_type": "markdown",
   "metadata": {},
   "source": [
    "Coding python gym \"The Flintstones\" solution - mod 'Basic'"
   ]
  },
  {
   "cell_type": "code",
   "execution_count": null,
   "metadata": {},
   "outputs": [],
   "source": [
    "print(\"Fred, Wilma, Pebbles\")"
   ]
  },
  {
   "cell_type": "markdown",
   "metadata": {},
   "source": [
    "Coding python gym \"Parrot\" solution - mod 'Basic'"
   ]
  },
  {
   "cell_type": "code",
   "execution_count": null,
   "metadata": {},
   "outputs": [],
   "source": [
    "word = input(\"Please enter a word: \")\n",
    "print(word)"
   ]
  },
  {
   "cell_type": "markdown",
   "metadata": {},
   "source": [
    "Coding python gym \"Where do you live?\" solution - mod 'Basic'"
   ]
  },
  {
   "cell_type": "code",
   "execution_count": null,
   "metadata": {},
   "outputs": [],
   "source": [
    "country = input(\"What country do you live in? \")\n",
    "print(country, \"is a great country.\")"
   ]
  },
  {
   "cell_type": "markdown",
   "metadata": {},
   "source": [
    "Coding python gym \"Repeater\" solution - mod 'Basic'"
   ]
  },
  {
   "cell_type": "code",
   "execution_count": null,
   "metadata": {},
   "outputs": [],
   "source": [
    "word = input(\"Enter a word to repeat: \")\n",
    "print(word)\n",
    "print(word)"
   ]
  },
  {
   "cell_type": "markdown",
   "metadata": {},
   "source": [
    "Coding python gym \"Croak Croak\" solution - mod 'Basic'"
   ]
  },
  {
   "cell_type": "code",
   "execution_count": null,
   "metadata": {},
   "outputs": [],
   "source": [
    "noise = input(\"What noise does your animal make? \")\n",
    "print(noise + \" \" + noise)"
   ]
  },
  {
   "cell_type": "markdown",
   "metadata": {},
   "source": [
    "Coding python gym \"Sandwich Filling\" solution - mod 'Basic'"
   ]
  },
  {
   "cell_type": "code",
   "execution_count": null,
   "metadata": {},
   "outputs": [],
   "source": [
    "filling = input(\"What do you want on your sandwich? \")\n",
    "print(\"bread\")\n",
    "print(filling)\n",
    "print(\"bread\")"
   ]
  },
  {
   "cell_type": "markdown",
   "metadata": {},
   "source": [
    "Coding python gym \"Summarise hair and eyes\" solution - mod 'Basic'"
   ]
  },
  {
   "cell_type": "code",
   "execution_count": null,
   "metadata": {},
   "outputs": [],
   "source": [
    "hair = input(\"What colour is your hair? \")\n",
    "eyes = input(\"What colour are your eyes? \")\n",
    "print(\"You have \" + hair + str(\" hair and \" + eyes + str(\" eyes.\")))"
   ]
  },
  {
   "cell_type": "markdown",
   "metadata": {},
   "source": [
    "Coding python gym \"Compound Words\" solution - mod 'Basic'"
   ]
  },
  {
   "cell_type": "code",
   "execution_count": null,
   "metadata": {},
   "outputs": [],
   "source": [
    "var1 = input(\"Word 1: \")\n",
    "var2 = input(\"Word 2: \")\n",
    "print(var1 + var2)"
   ]
  },
  {
   "cell_type": "markdown",
   "metadata": {},
   "source": [
    "Coding python gym \"Nickname\" solution - mod 'Basic'"
   ]
  },
  {
   "cell_type": "code",
   "execution_count": null,
   "metadata": {},
   "outputs": [],
   "source": [
    "name = input(\"What is your nickname? \")\n",
    "print(\"Welcome, I will call you \" + \"'\" + name + \"'.\")"
   ]
  },
  {
   "cell_type": "markdown",
   "metadata": {},
   "source": [
    "Coding python gym \"Plus 10\" solution - mod 'Calculator'"
   ]
  },
  {
   "cell_type": "code",
   "execution_count": null,
   "metadata": {},
   "outputs": [],
   "source": [
    "y = input(\"Enter a number: \")\n",
    "x = 10\n",
    "sum = int(y) + int(x)\n",
    "print(sum)"
   ]
  },
  {
   "cell_type": "markdown",
   "metadata": {},
   "source": [
    "Coding python gym \"Minus 20\" solution - mod 'Calculator'"
   ]
  },
  {
   "cell_type": "code",
   "execution_count": null,
   "metadata": {},
   "outputs": [],
   "source": [
    "y = input(\"Enter a number: \")\n",
    "x = 20\n",
    "sum = int(y) - int(x)\n",
    "print(sum)"
   ]
  },
  {
   "cell_type": "markdown",
   "metadata": {},
   "source": [
    "Coding python gym \"Times 3\" solution - mod 'Calculator'"
   ]
  },
  {
   "cell_type": "code",
   "execution_count": null,
   "metadata": {},
   "outputs": [],
   "source": [
    "y = input(\"Enter a number: \")\n",
    "z = 3\n",
    "sum = int(y) * int(z)\n",
    "print(sum)"
   ]
  },
  {
   "cell_type": "markdown",
   "metadata": {},
   "source": [
    "Coding python gym \"Divide by 2\" solution - mod 'Calculator'"
   ]
  },
  {
   "cell_type": "code",
   "execution_count": null,
   "metadata": {},
   "outputs": [],
   "source": [
    "y = input(\"Enter a number: \")\n",
    "x = 2\n",
    "sum = int(y) / int(x)\n",
    "print(sum)"
   ]
  },
  {
   "cell_type": "markdown",
   "metadata": {},
   "source": [
    "Coding python gym \"Plus 7 times 2\" solution - mod 'Calculator'"
   ]
  },
  {
   "cell_type": "code",
   "execution_count": null,
   "metadata": {},
   "outputs": [],
   "source": [
    "y = input(\"Enter a number: \")\n",
    "x = 7\n",
    "sum = int(y) + int(x)\n",
    "new_sum = sum * 2\n",
    "print(new_sum)"
   ]
  },
  {
   "cell_type": "markdown",
   "metadata": {},
   "source": [
    "Coding python gym \"Power of 3\" solution - mod 'Calculator'"
   ]
  },
  {
   "cell_type": "code",
   "execution_count": null,
   "metadata": {},
   "outputs": [],
   "source": [
    "y = input(\"Enter a number: \")\n",
    "sum = (int(y)**3)\n",
    "print(sum)"
   ]
  },
  {
   "cell_type": "markdown",
   "metadata": {},
   "source": [
    "Coding python gym \"100 divided by\" solution - mod 'Calculator'"
   ]
  },
  {
   "cell_type": "code",
   "execution_count": null,
   "metadata": {},
   "outputs": [],
   "source": [
    "y = input(\"Enter a number: \")\n",
    "x = 100\n",
    "sum = int(x) / int(y)\n",
    "print(sum)"
   ]
  },
  {
   "cell_type": "markdown",
   "metadata": {},
   "source": [
    "Coding python gym \"2 to the power\" solution - mod 'Calculator'"
   ]
  },
  {
   "cell_type": "code",
   "execution_count": null,
   "metadata": {},
   "outputs": [],
   "source": [
    "y = input(\"Enter a number: \")\n",
    "x = 2\n",
    "sum = int(x)**int(y)\n",
    "print(sum)"
   ]
  },
  {
   "cell_type": "markdown",
   "metadata": {},
   "source": [
    "Coding python gym \"a minus b\" solution - mod 'Calculator'"
   ]
  },
  {
   "cell_type": "code",
   "execution_count": null,
   "metadata": {},
   "outputs": [],
   "source": [
    "y = input(\"Enter a number: \")\n",
    "x = input(\"Enter a number: \")\n",
    "sum = int(y) - int(x)\n",
    "print(sum)"
   ]
  },
  {
   "cell_type": "markdown",
   "metadata": {},
   "source": [
    "Coding python gym \"a plus b times 3\" solution - mod 'Calculator'"
   ]
  },
  {
   "cell_type": "code",
   "execution_count": null,
   "metadata": {},
   "outputs": [],
   "source": [
    "y = input(\"Enter a number: \")\n",
    "x = input(\"Enter a number: \")\n",
    "z = 3\n",
    "sum = (int(y) + int(x)) * z\n",
    "print(sum)"
   ]
  },
  {
   "cell_type": "markdown",
   "metadata": {},
   "source": [
    "Coding python gym \"Length\" solution - mod 'Strings'"
   ]
  },
  {
   "cell_type": "code",
   "execution_count": null,
   "metadata": {},
   "outputs": [],
   "source": [
    "word = input(\"Enter a word: \")\n",
    "print(len(word)) # Test"
   ]
  },
  {
   "cell_type": "markdown",
   "metadata": {},
   "source": [
    "Coding python gym \"Brackets\" solution - mod 'Strings'"
   ]
  },
  {
   "cell_type": "code",
   "execution_count": null,
   "metadata": {},
   "outputs": [],
   "source": [
    "word = input(\"Enter a word: \")\n",
    "print(\"[\" + word + \"]\")"
   ]
  },
  {
   "cell_type": "markdown",
   "metadata": {},
   "source": [
    "Coding python gym \"Print a number\" solution - mod 'Strings'"
   ]
  },
  {
   "cell_type": "code",
   "execution_count": null,
   "metadata": {},
   "outputs": [],
   "source": [
    "number = input(\"Enter a number: \")\n",
    "print(\"The number is \" + number)"
   ]
  },
  {
   "cell_type": "markdown",
   "metadata": {},
   "source": [
    "Coding python gym \"Happy!\" solution - mod 'Strings'"
   ]
  },
  {
   "cell_type": "code",
   "execution_count": null,
   "metadata": {},
   "outputs": [],
   "source": [
    "x = input(\"How many times do you want me to repeat? \")\n",
    "print(\"Happy\"*int(x))"
   ]
  },
  {
   "cell_type": "markdown",
   "metadata": {},
   "source": [
    "Coding python gym \"Zebra Crossing\" solution - mod 'Strings'"
   ]
  },
  {
   "cell_type": "code",
   "execution_count": null,
   "metadata": {},
   "outputs": [],
   "source": [
    "w1 = input(\"Word 1: \")\n",
    "w2 = input(\"Word 2: \")\n",
    "print((w1 + w2)*4)"
   ]
  },
  {
   "cell_type": "markdown",
   "metadata": {},
   "source": [
    "Coding python gym \"Flip Flop\" solution - mod 'Strings'"
   ]
  },
  {
   "cell_type": "code",
   "execution_count": null,
   "metadata": {},
   "outputs": [],
   "source": [
    "w1 = input(\"Word 1: \")\n",
    "w2 = input(\"Word 2: \")\n",
    "print((w2 + w1)*3)"
   ]
  },
  {
   "cell_type": "markdown",
   "metadata": {},
   "source": [
    "Coding python gym \"Length + 10\" solution - mod 'Strings'"
   ]
  },
  {
   "cell_type": "code",
   "execution_count": null,
   "metadata": {},
   "outputs": [],
   "source": [
    "word = input(\"Enter a word: \")\n",
    "print(len(word)+ 10)"
   ]
  },
  {
   "cell_type": "markdown",
   "metadata": {},
   "source": [
    "Coding python gym \"Screeeech!\" solution - mod 'Strings'"
   ]
  },
  {
   "cell_type": "code",
   "execution_count": null,
   "metadata": {},
   "outputs": [],
   "source": [
    "n = input(\"Number of e's: \")\n",
    "print(\"Scr\" + \"e\" * int(n) + \"ch!\")"
   ]
  },
  {
   "cell_type": "markdown",
   "metadata": {},
   "source": [
    "Coding python gym \"How many letters?\" solution - mod 'Strings'"
   ]
  },
  {
   "cell_type": "code",
   "execution_count": null,
   "metadata": {},
   "outputs": [],
   "source": [
    "word1 = input(\"Enter a word: \")\n",
    "word2 = input(\"Enter a word: \")\n",
    "z = len(word1)\n",
    "y = len(word2)\n",
    "print(word1 + \" has \" + str(z) + \" letters.\")\n",
    "print(word2 + \" has \" + str(y) + \" letters.\")"
   ]
  },
  {
   "cell_type": "markdown",
   "metadata": {},
   "source": [
    "Coding python gym \"Once, Twice, Thrice\" solution - mod 'Strings'"
   ]
  },
  {
   "cell_type": "code",
   "execution_count": null,
   "metadata": {},
   "outputs": [],
   "source": [
    "w = input(\"What did you say? \")\n",
    "print(w)\n",
    "print(w + \" \" + w)\n",
    "print(w + \" \" + w + \" \" + w)"
   ]
  },
  {
   "cell_type": "markdown",
   "metadata": {},
   "source": [
    "Coding python gym \"Pick a number\" solution - mod 'Making decisions'"
   ]
  },
  {
   "cell_type": "code",
   "execution_count": null,
   "metadata": {},
   "outputs": [],
   "source": [
    "n = input(\"Pick a number: \")\n",
    "if n == \"42\":\n",
    "  print(\"You guessed right!\")"
   ]
  },
  {
   "cell_type": "markdown",
   "metadata": {},
   "source": [
    "Coding python gym \"Pick a letter\" solution - mod 'Making decisions'"
   ]
  },
  {
   "cell_type": "code",
   "execution_count": null,
   "metadata": {},
   "outputs": [],
   "source": [
    "letter = input(\"Pick a letter: \")\n",
    "if letter == \"e\":\n",
    "  print(\"You guessed right!\")\n",
    "elif letter != \"e\":\n",
    "  print(\"Sorry, wrong letter!\")"
   ]
  },
  {
   "cell_type": "markdown",
   "metadata": {},
   "source": [
    "Coding python gym \"Not unlucky\" solution - mod 'Making decisions'"
   ]
  },
  {
   "cell_type": "code",
   "execution_count": null,
   "metadata": {},
   "outputs": [],
   "source": [
    "number= int(input(\"Enter a number: \"))\n",
    "if number != 13:\n",
    "  print(\"Good choice.\")"
   ]
  },
  {
   "cell_type": "markdown",
   "metadata": {},
   "source": [
    "Coding python gym \"Pass or fail\" solution - mod 'Making decisions'"
   ]
  },
  {
   "cell_type": "code",
   "execution_count": null,
   "metadata": {},
   "outputs": [],
   "source": [
    "mark = int(input(\"Enter your mark out of 10: \"))\n",
    "if mark >= 5:\n",
    "  print(\"Pass\")\n",
    "else:\n",
    "  print(\"Fail\")"
   ]
  },
  {
   "cell_type": "markdown",
   "metadata": {},
   "source": [
    "Coding python gym \"Greater than 100?\" solution - mod 'Making decisions'"
   ]
  },
  {
   "cell_type": "code",
   "execution_count": null,
   "metadata": {},
   "outputs": [],
   "source": [
    "n = int(input('Enter a number: '))\n",
    "if n > 100:\n",
    "  print(f\"{n} is greater than 100.\")\n",
    "else:\n",
    "  print(f\"{n} is not greater than 100.\")"
   ]
  },
  {
   "cell_type": "markdown",
   "metadata": {},
   "source": [
    "Coding python gym \"Equal to 1000?\" solution - mod 'Making decisions'"
   ]
  },
  {
   "cell_type": "code",
   "execution_count": null,
   "metadata": {},
   "outputs": [],
   "source": [
    "n = int(input('Enter a number: '))\n",
    "if n > 1000:\n",
    "  print(f\"{n} is greater than 1000.\")\n",
    "elif n < 1000:\n",
    "  print(f\"{n} is less than 1000.\")\n",
    "elif n == 1000:\n",
    "  print(f\"You entered 1000.\")"
   ]
  },
  {
   "cell_type": "markdown",
   "metadata": {},
   "source": [
    "Coding python gym \"Consonant or vowel?\" solution - mod 'Making decisions'"
   ]
  },
  {
   "cell_type": "code",
   "execution_count": null,
   "metadata": {},
   "outputs": [],
   "source": [
    "letter = input(\"Enter a letter: \")\n",
    "if letter in \"aeiou\":\n",
    "  print(letter + \" is a vowel.\")\n",
    "else:\n",
    "  print(letter + \" is a consonant.\")"
   ]
  },
  {
   "cell_type": "markdown",
   "metadata": {},
   "source": [
    "Coding python gym \"Positivie or negative?\" solution - mod 'Making decisions'"
   ]
  },
  {
   "cell_type": "code",
   "execution_count": null,
   "metadata": {},
   "outputs": [],
   "source": [
    "number = int(input(\"Enter a number: \"))\n",
    "    \n",
    "if number > 0:\n",
    "    print(f\"{number} is positive.\")\n",
    "elif number < 0:\n",
    "    print(f\"{number} is negative.\")\n",
    "else:\n",
    "    print(\"You entered zero.\")"
   ]
  },
  {
   "cell_type": "markdown",
   "metadata": {},
   "source": [
    "Coding python gym \"Which number is bigger?\" solution - mod 'Making decisions'"
   ]
  },
  {
   "cell_type": "code",
   "execution_count": null,
   "metadata": {},
   "outputs": [],
   "source": [
    "num1 = int(input(\"Enter a number: \"))\n",
    "num2 = int(input(\"Enter another number: \"))\n",
    "\n",
    "if num1 > num2:\n",
    "    print(f\"{num1} is greater than {num2}\")\n",
    "else:\n",
    "    print(f\"{num1} is less than or equal to {num2}\")"
   ]
  },
  {
   "cell_type": "markdown",
   "metadata": {},
   "source": [
    "Coding python gym \"Print the smallest number\" solution - mod 'Making decisions'"
   ]
  },
  {
   "cell_type": "code",
   "execution_count": null,
   "metadata": {},
   "outputs": [],
   "source": [
    "num1 = int(input(\"Enter a number: \"))\n",
    "num2 = int(input(\"Enter another number: \"))\n",
    "\n",
    "if num1 <= num2:\n",
    "    print(num1)\n",
    "else:\n",
    "    print(num2)"
   ]
  },
  {
   "cell_type": "markdown",
   "metadata": {},
   "source": [
    "Coding python gym \"0 to 20\" solution - mod 'For Loops (with numbers)'"
   ]
  },
  {
   "cell_type": "code",
   "execution_count": null,
   "metadata": {},
   "outputs": [],
   "source": [
    "for i in range(0, 21):\n",
    "    print(i)"
   ]
  },
  {
   "cell_type": "markdown",
   "metadata": {},
   "source": [
    "Coding python gym \"50 to 60\" solution - mod 'For Loops (with numbers)'"
   ]
  },
  {
   "cell_type": "code",
   "execution_count": null,
   "metadata": {},
   "outputs": [],
   "source": [
    "for i in range(50, 61):\n",
    "    print(i)"
   ]
  },
  {
   "cell_type": "markdown",
   "metadata": {},
   "source": [
    "Coding python gym \"72 to 98 evens\" solution - mod 'For Loops (with numbers)'"
   ]
  },
  {
   "cell_type": "code",
   "execution_count": null,
   "metadata": {},
   "outputs": [],
   "source": [
    "for i in range(72, 99):\n",
    "    if i % 2 == 0:\n",
    "        print(i)"
   ]
  },
  {
   "cell_type": "markdown",
   "metadata": {},
   "source": [
    "Coding python gym \"-29 to -9 odds\" solution - mod 'For Loops (with numbers)'"
   ]
  },
  {
   "cell_type": "code",
   "execution_count": null,
   "metadata": {},
   "outputs": [],
   "source": [
    "for i in range(-29, -8):\n",
    "    if i % 2 == 1:\n",
    "        print(i)"
   ]
  },
  {
   "cell_type": "markdown",
   "metadata": {},
   "source": [
    "Coding python gym \"66 to 33 backwards in 3s\" solution - mod 'For Loops (with numbers)'"
   ]
  },
  {
   "cell_type": "code",
   "execution_count": null,
   "metadata": {},
   "outputs": [],
   "source": [
    "for i in range(66, 32, -3):\n",
    "    print(i)"
   ]
  },
  {
   "cell_type": "markdown",
   "metadata": {},
   "source": [
    "Coding python gym \"Loop to n\" solution - mod 'For Loops (with numbers)'"
   ]
  },
  {
   "cell_type": "code",
   "execution_count": null,
   "metadata": {},
   "outputs": [],
   "source": [
    "num = int(input(\"Enter a number: \"))\n",
    "\n",
    "for i in range(1, num + 1):\n",
    "    print(i)"
   ]
  },
  {
   "cell_type": "markdown",
   "metadata": {},
   "source": [
    "Coding python gym \"Sum numbers to n\" solution - mod 'For Loops (with numbers)'"
   ]
  },
  {
   "cell_type": "code",
   "execution_count": null,
   "metadata": {},
   "outputs": [],
   "source": [
    "num = int(input(\"Enter a number: \"))\n",
    "\n",
    "sum = 0\n",
    "for i in range(1, num + 1):\n",
    "    sum += i\n",
    "    \n",
    "print(sum)"
   ]
  },
  {
   "cell_type": "markdown",
   "metadata": {},
   "source": [
    "Coding python gym \"Multiply numbers to minus n\" solution - mod 'For Loops (with numbers)'"
   ]
  },
  {
   "cell_type": "code",
   "execution_count": null,
   "metadata": {},
   "outputs": [],
   "source": [
    "num = int(input(\"Enter a negative number: \"))\n",
    "\n",
    "product = 1\n",
    "for i in range(-1, num - 1, -1):\n",
    "    product *= i\n",
    "print(str(product))"
   ]
  },
  {
   "cell_type": "markdown",
   "metadata": {},
   "source": [
    "Coding python gym \"Sum numbers in a range\" solution - mod 'For Loops (with numbers)'"
   ]
  },
  {
   "cell_type": "code",
   "execution_count": null,
   "metadata": {},
   "outputs": [],
   "source": [
    "num1 = int(input(\"Enter the smaller number: \"))\n",
    "num2 = int(input(\"Enter the larger number: \"))\n",
    "\n",
    "\n",
    "sum = 0\n",
    "for i in range(num1, num2 + 1):\n",
    "    sum += i\n",
    "print(str(sum))"
   ]
  },
  {
   "cell_type": "markdown",
   "metadata": {},
   "source": [
    "Coding python gym \"Sum the squares of numbers in a range\" solution - mod 'For Loops (with numbers)'"
   ]
  },
  {
   "cell_type": "code",
   "execution_count": null,
   "metadata": {},
   "outputs": [],
   "source": [
    "num1 = int(input(\"Enter the smaller number: \"))\n",
    "num2 = int(input(\"Enter the larger number: \"))\n",
    "\n",
    "\n",
    "sum = 0\n",
    "for i in range(num1, num2 + 1):\n",
    "    sum += i * i\n",
    "print(str(sum))"
   ]
  },
  {
   "cell_type": "markdown",
   "metadata": {},
   "source": [
    "Coding python gym \"Letters\" solution - mod 'For Loops (with strings)'"
   ]
  },
  {
   "cell_type": "code",
   "execution_count": null,
   "metadata": {},
   "outputs": [],
   "source": [
    "word = input(\"Enter a word: \")\n",
    "\n",
    "for c in word:\n",
    "    print(c)"
   ]
  },
  {
   "cell_type": "markdown",
   "metadata": {},
   "source": [
    "Coding python gym \"Add x\" solution - mod 'For Loops (with strings)'"
   ]
  },
  {
   "cell_type": "code",
   "execution_count": null,
   "metadata": {},
   "outputs": [],
   "source": [
    "word = input(\"Enter a word: \")\n",
    "\n",
    "for c in word:\n",
    "    print(c + 'x')"
   ]
  },
  {
   "cell_type": "markdown",
   "metadata": {},
   "source": [
    "Coding python gym \"Typing\" solution - mod 'For Loops (with strings)'"
   ]
  },
  {
   "cell_type": "code",
   "execution_count": null,
   "metadata": {},
   "outputs": [],
   "source": [
    "word = input(\"Enter a word: \")\n",
    "\n",
    "for c in word:\n",
    "    print('tap')"
   ]
  },
  {
   "cell_type": "markdown",
   "metadata": {},
   "source": [
    "Coding python gym \"Highlight\" solution - mod 'For Loops (with strings)'"
   ]
  },
  {
   "cell_type": "code",
   "execution_count": null,
   "metadata": {},
   "outputs": [],
   "source": [
    "word = input(\"Enter a word: \")\n",
    "\n",
    "print('***')\n",
    "for c in word:\n",
    "    print(c)\n",
    "print('***')"
   ]
  },
  {
   "cell_type": "markdown",
   "metadata": {},
   "source": [
    "Coding python gym \"Underscored\" solution - mod 'For Loops (with strings)'"
   ]
  },
  {
   "cell_type": "code",
   "execution_count": null,
   "metadata": {},
   "outputs": [],
   "source": [
    "word = input(\"Enter a word: \")\n",
    "\n",
    "final = ''\n",
    "for c in word:\n",
    "    final += c + '__'\n",
    "print(final, end='')"
   ]
  },
  {
   "cell_type": "markdown",
   "metadata": {},
   "source": [
    "Coding python gym \"Layers\" solution - mod 'For Loops (with strings)'"
   ]
  },
  {
   "cell_type": "code",
   "execution_count": null,
   "metadata": {},
   "outputs": [],
   "source": [
    "word = input(\"Enter a word: \")\n",
    "\n",
    "for c in word:\n",
    "    print('-')\n",
    "    print(c)\n",
    "print('-')"
   ]
  },
  {
   "cell_type": "markdown",
   "metadata": {},
   "source": [
    "Coding python gym \"Dotty\" solution - mod 'For Loops (with strings)'"
   ]
  },
  {
   "cell_type": "code",
   "execution_count": null,
   "metadata": {},
   "outputs": [],
   "source": [
    "word = input(\"Enter a word: \")\n",
    "\n",
    "final = ''\n",
    "for c in word:\n",
    "    final += c + '.'\n",
    "print(final)"
   ]
  },
  {
   "cell_type": "markdown",
   "metadata": {},
   "source": [
    "Coding python gym \"Censored!\" solution - mod 'For Loops (with strings)'"
   ]
  },
  {
   "cell_type": "code",
   "execution_count": null,
   "metadata": {},
   "outputs": [],
   "source": [
    "word = input(\"Enter a word: \")\n",
    "\n",
    "final = ''\n",
    "for c in word:\n",
    "    final += 'x'\n",
    "print(final)"
   ]
  },
  {
   "cell_type": "markdown",
   "metadata": {},
   "source": [
    "Coding python gym \"Letter Grid\" solution - mod 'For Loops (with strings)'"
   ]
  },
  {
   "cell_type": "code",
   "execution_count": null,
   "metadata": {},
   "outputs": [],
   "source": [
    "word = input(\"Enter a word: \")\n",
    "\n",
    "for c in word:\n",
    "    print(c, c, c)"
   ]
  },
  {
   "cell_type": "markdown",
   "metadata": {},
   "source": [
    "Coding python gym \"The letter is...\" solution - mod 'For Loops (with strings)'"
   ]
  },
  {
   "cell_type": "code",
   "execution_count": null,
   "metadata": {},
   "outputs": [],
   "source": [
    "word = input(\"Enter a word: \")\n",
    "\n",
    "for c in word:\n",
    "    print(f\"The letter is {c}.\")"
   ]
  },
  {
   "cell_type": "markdown",
   "metadata": {},
   "source": [
    "Coding python gym \"Change to uppercase\" solution - mod 'Manipulating strings'"
   ]
  },
  {
   "cell_type": "code",
   "execution_count": null,
   "metadata": {},
   "outputs": [],
   "source": [
    "word = input(\"Enter a word: \")\n",
    "\n",
    "print(word.upper())"
   ]
  },
  {
   "cell_type": "markdown",
   "metadata": {},
   "source": [
    "Coding python gym \"Replace e\" solution - mod 'Manipulating strings'"
   ]
  },
  {
   "cell_type": "code",
   "execution_count": null,
   "metadata": {},
   "outputs": [],
   "source": [
    "word = input(\"Enter a word: \")\n",
    "\n",
    "print(word.replace('e', '-'))"
   ]
  },
  {
   "cell_type": "markdown",
   "metadata": {},
   "source": [
    "Coding python gym \"Double f?\" solution - mod 'Manipulating strings'"
   ]
  },
  {
   "cell_type": "code",
   "execution_count": null,
   "metadata": {},
   "outputs": [],
   "source": [
    "word = input(\"Enter a word: \")\n",
    "\n",
    "if 'ff' in word:\n",
    "    print('True')\n",
    "else:\n",
    "    print('False')"
   ]
  },
  {
   "cell_type": "markdown",
   "metadata": {},
   "source": [
    "Coding python gym \"Is it lowercase?\" solution - mod 'Manipulating strings'"
   ]
  },
  {
   "cell_type": "code",
   "execution_count": null,
   "metadata": {},
   "outputs": [],
   "source": [
    "string = input(\"Enter some text: \")\n",
    "\n",
    "print(string.islower())"
   ]
  },
  {
   "cell_type": "markdown",
   "metadata": {},
   "source": [
    "Coding python gym \"Replace o and a\" solution - mod 'Manipulating strings'"
   ]
  },
  {
   "cell_type": "code",
   "execution_count": null,
   "metadata": {},
   "outputs": [],
   "source": [
    "word = input(\"Enter a word: \")\n",
    "\n",
    "new_word = \"\"\n",
    "for letter in word:\n",
    "    if letter == 'a':\n",
    "        new_word += '@'\n",
    "    elif letter == 'o':\n",
    "        new_word += '0'\n",
    "    else:\n",
    "        new_word += letter\n",
    "print(new_word)"
   ]
  },
  {
   "cell_type": "markdown",
   "metadata": {},
   "source": [
    "Coding python gym \"How long is your name?\" solution - mod 'Manipulating strings'"
   ]
  },
  {
   "cell_type": "code",
   "execution_count": null,
   "metadata": {},
   "outputs": [],
   "source": [
    "name = input(\"What is your first name? \")\n",
    "print(f\"{name} has {len(name)} letters.\")"
   ]
  },
  {
   "cell_type": "markdown",
   "metadata": {},
   "source": [
    "Coding python gym \"How many z's?\" solution - mod 'Manipulating strings'"
   ]
  },
  {
   "cell_type": "code",
   "execution_count": null,
   "metadata": {},
   "outputs": [],
   "source": [
    "word = input(\"Enter a word: \")\n",
    "counter = 0\n",
    "for c in word:\n",
    "    if c == 'z':\n",
    "        counter += 1\n",
    "print(f\"{counter}\")"
   ]
  },
  {
   "cell_type": "markdown",
   "metadata": {},
   "source": [
    "Coding python gym \"Name on the roll\" solution - mod 'Manipulating strings'"
   ]
  },
  {
   "cell_type": "code",
   "execution_count": null,
   "metadata": {},
   "outputs": [],
   "source": [
    "first_name = input(\"What is your first name? \")\n",
    "last_name  = input(\"What is your second name? \")\n",
    "\n",
    "formatted_first_name = first_name.capitalize()\n",
    "formatted_last_name  = last_name.upper()\n",
    "\n",
    "print(f\"{formatted_last_name}, {formatted_first_name}\")"
   ]
  },
  {
   "cell_type": "markdown",
   "metadata": {},
   "source": [
    "Coding python gym \"Letters 1, 3, and 5\" solution - mod 'Manipulating strings'"
   ]
  },
  {
   "cell_type": "code",
   "execution_count": null,
   "metadata": {},
   "outputs": [],
   "source": [
    "word = input(\"Enter a word: \")\n",
    "\n",
    "print(word[0] + word[2] + word[4])"
   ]
  },
  {
   "cell_type": "markdown",
   "metadata": {},
   "source": [
    "Coding python gym \"How many vowels?\" solution - mod 'Manipulating strings'"
   ]
  },
  {
   "cell_type": "code",
   "execution_count": null,
   "metadata": {},
   "outputs": [],
   "source": [
    "word = input(\"Enter a word: \")\n",
    "\n",
    "count = 0\n",
    "for c in word:\n",
    "    if c.islower() and c in 'aeiou':\n",
    "        count += 1\n",
    "print(count)"
   ]
  }
 ],
 "metadata": {
  "language_info": {
   "name": "python"
  }
 },
 "nbformat": 4,
 "nbformat_minor": 2
}
