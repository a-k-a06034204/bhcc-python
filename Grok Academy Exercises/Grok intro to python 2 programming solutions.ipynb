{
 "cells": [
  {
   "cell_type": "markdown",
   "metadata": {},
   "source": [
    "Intro to python 2 \"Maths mix\" solution - mod 1 "
   ]
  },
  {
   "cell_type": "code",
   "execution_count": null,
   "metadata": {},
   "outputs": [],
   "source": [
    "n = int(input('Number 1: '))\n",
    "m = int(input('Number 2: '))\n",
    "\n",
    "sum = n + m\n",
    "product = n * m\n",
    "print(n, 'plus', m, 'is', sum)\n",
    "print(n, 'times', m, 'is', product)"
   ]
  },
  {
   "cell_type": "markdown",
   "metadata": {},
   "source": [
    "Intro to python 2 \"Robots in a line!\" solution - mod 1 "
   ]
  },
  {
   "cell_type": "code",
   "execution_count": null,
   "metadata": {},
   "outputs": [],
   "source": [
    "line = input('Line: ')\n",
    "words = line.split()\n",
    "robot_found = False\n",
    "for word in words:\n",
    "    if word.lower() == \"robot\":\n",
    "        robot_found = True\n",
    "        if word.islower():\n",
    "            print(\"There is a small robot in the line.\")\n",
    "            break\n",
    "        elif word.isupper():\n",
    "            print(\"There is a big robot in the line.\")\n",
    "            break\n",
    "        else:\n",
    "            print(\"There is a medium sized robot in the line.\")\n",
    "            break\n",
    "if robot_found == False:\n",
    "    print(\"No robots here.\")"
   ]
  },
  {
   "cell_type": "markdown",
   "metadata": {},
   "source": [
    "Intro to python 2 \"Up the lift\" solution - mod 1 "
   ]
  },
  {
   "cell_type": "code",
   "execution_count": null,
   "metadata": {},
   "outputs": [],
   "source": [
    "# Get input from the user:\n",
    "current_floor     = int(input(\"Current floor: \"))\n",
    "destination_floor = int(input(\"Destination floor: \"))\n",
    "\n",
    "for floor in range(current_floor, destination_floor + 1):\n",
    "    print('Level ' + str(floor))"
   ]
  },
  {
   "cell_type": "markdown",
   "metadata": {},
   "source": [
    "Intro to python 2 \"Guessing game\" solution - mod 1 "
   ]
  },
  {
   "cell_type": "code",
   "execution_count": null,
   "metadata": {},
   "outputs": [],
   "source": [
    "print('What is my favourite food?')\n",
    "\n",
    "not_guessed = False\n",
    "while not_guessed != True:\n",
    "    guess = input('Guess? ')\n",
    "    if guess != 'electricity':\n",
    "        print('Not even close.')\n",
    "    else:\n",
    "        not_guessed = True\n",
    "print('You guessed it! Buzzzz')"
   ]
  },
  {
   "cell_type": "markdown",
   "metadata": {},
   "source": [
    "Intro to python 2 \"Words2SMS\" solution - mod 2"
   ]
  },
  {
   "cell_type": "code",
   "execution_count": null,
   "metadata": {},
   "outputs": [],
   "source": [
    "# Define the phone pad mappings:\n",
    "KEYPAD = {\n",
    "    'A': '2', 'B': '2', 'C': '2', 'D': '3', 'E': '3',\n",
    "    'F': '3', 'G': '4', 'H': '4', 'I': '4', 'J': '5',\n",
    "    'K': '5', 'L': '5', 'M': '6', 'N': '6', 'O': '6',\n",
    "    'P': '7', 'Q': '7', 'R': '7', 'S': '7', 'T': '8',\n",
    "    'U': '8', 'V': '8', 'W': '9', 'X': '9', 'Y': '9',\n",
    "    'Z': '9',\n",
    "}\n",
    "\n",
    "word = input('Enter word: ') \n",
    "final = ''\n",
    "for c in word:\n",
    "    final += KEYPAD[c]\n",
    "print(final)"
   ]
  },
  {
   "cell_type": "markdown",
   "metadata": {},
   "source": [
    "Intro to python 2 \"Favorite colour\" solution - mod 2"
   ]
  },
  {
   "cell_type": "code",
   "execution_count": null,
   "metadata": {},
   "outputs": [],
   "source": [
    "favorites = {}\n",
    "done = False\n",
    "while done != True:\n",
    "    line = input(\"Name and colour: \")\n",
    "    if line == '':\n",
    "        done = True\n",
    "    else:\n",
    "        name, colour = line.split()\n",
    "        favorites[name] = colour\n",
    "\n",
    "for name in favorites:\n",
    "        print(f\"{name} {favorites[name]}\")"
   ]
  },
  {
   "cell_type": "markdown",
   "metadata": {},
   "source": [
    "Intro to python 2 \"Car colours\" solution - mod 2"
   ]
  },
  {
   "cell_type": "code",
   "execution_count": null,
   "metadata": {},
   "outputs": [],
   "source": [
    "cars = dict()\n",
    "done = False\n",
    "while done != True:\n",
    "    line = input(\"Car: \")\n",
    "    if line == '':\n",
    "        done = True\n",
    "    else:\n",
    "        if line in cars.keys():\n",
    "            cars[line] += 1\n",
    "        else:\n",
    "            cars[line] = 1\n",
    "\n",
    "for color in cars:\n",
    "        print(f\"Cars that are {color}: {cars[color]}\")"
   ]
  },
  {
   "cell_type": "markdown",
   "metadata": {},
   "source": [
    "Intro to python 2 \"Word counter\" solution - mod 2"
   ]
  },
  {
   "cell_type": "code",
   "execution_count": null,
   "metadata": {},
   "outputs": [],
   "source": [
    "words = dict()\n",
    "done = False\n",
    "while done != True:\n",
    "    line = input(\"Enter line: \")\n",
    "    if line == '':\n",
    "        done = True\n",
    "    else:\n",
    "        for word in line.split():\n",
    "            if word in words.keys():\n",
    "                words[word] += 1 \n",
    "            else:\n",
    "                words[word] = 1\n",
    "\n",
    "for word in sorted(words):\n",
    "        print(f\"{word} {words[word]}\")"
   ]
  },
  {
   "cell_type": "markdown",
   "metadata": {},
   "source": [
    "Intro to python 2 \"SHOUT your orders!\" solution - mod 3"
   ]
  },
  {
   "cell_type": "code",
   "execution_count": null,
   "metadata": {},
   "outputs": [],
   "source": [
    "f = open('orders.txt')\n",
    "for line in f:\n",
    "  print(line.strip().upper())"
   ]
  },
  {
   "cell_type": "markdown",
   "metadata": {},
   "source": [
    "Intro to python 2 \"The dog wrote it!\" solution - mod 3"
   ]
  },
  {
   "cell_type": "code",
   "execution_count": null,
   "metadata": {},
   "outputs": [],
   "source": [
    "with open('fixed.txt', 'w') as f2:\n",
    "    f1 = open('letter.txt')\n",
    "    for line in f1:\n",
    "        new_line = line\n",
    "        new_line = new_line.replace('WOOF! ', '')\n",
    "        new_line = new_line.replace(\"Let's play catch!\\n\", '')\n",
    "        new_line = new_line.replace(\"I better chase that possum!\\n\", '')\n",
    "        new_line = new_line.replace(\"Woof woof woof woof.\", '')\n",
    "        new_line = new_line.replace(\"I just met you and I love you!\\n\", '')\n",
    "        print(new_line, end='', file=f2)"
   ]
  },
  {
   "cell_type": "markdown",
   "metadata": {},
   "source": [
    "Intro to python 2 \"Words in a file: color or colour?\" solution - mod 3"
   ]
  },
  {
   "cell_type": "code",
   "execution_count": null,
   "metadata": {},
   "outputs": [],
   "source": [
    "word_to_find = input(\"Word to look for: \")\n",
    "\n",
    "with open('book.txt', 'r') as file:\n",
    "    # Read all lines from the file\n",
    "    lines = file.readlines()\n",
    "    # Concatenate lines into a single string\n",
    "    text = ''.join(lines)\n",
    "    # Check if the word is in the text\n",
    "    if word_to_find.lower() in text.lower():\n",
    "        print(f\"{word_to_find} was found in the book.\")\n",
    "    else:\n",
    "        print(f\"{word_to_find} was not found in the book.\")"
   ]
  },
  {
   "cell_type": "markdown",
   "metadata": {},
   "source": [
    "Intro to python 2 \"Waiter! There's an aardvark in my file!\" solution - mod 3"
   ]
  },
  {
   "cell_type": "code",
   "execution_count": null,
   "metadata": {},
   "outputs": [],
   "source": [
    "with open(\"input.txt\", \"r\") as file:\n",
    "    for line_number, line in enumerate(file, start=1): # Set start as 1 to change the index that Python tracks\n",
    "        \n",
    "        line_lower = line.lower()\n",
    "\n",
    "        aardvark = 'aardvark'\n",
    "        \n",
    "        # print(line_lower, end='')\n",
    "        \n",
    "        for c in aardvark:\n",
    "            if c in line_lower:\n",
    "                line_lower = line_lower.replace(c, '' , 1)\n",
    "                aardvark = aardvark.replace(c, '', 1)\n",
    "        \n",
    "        if aardvark == '':\n",
    "            print(\"Aardvark on line\", line_number)"
   ]
  },
  {
   "cell_type": "markdown",
   "metadata": {},
   "source": [
    "Intro to python 2 \"Bombs away!\" solution - mod 4"
   ]
  },
  {
   "cell_type": "code",
   "execution_count": null,
   "metadata": {},
   "outputs": [],
   "source": [
    "hits = set()\n",
    "\n",
    "done = False\n",
    "while done != True:\n",
    "    guess = input(\"Guess: \")\n",
    "    if guess == '':\n",
    "        done = True\n",
    "    else:\n",
    "        if guess in hits:\n",
    "            print(\"You've chosen that square already\")\n",
    "        else:\n",
    "            hits.add(guess)\n",
    "            print('Hit', guess)\n",
    "# Done"
   ]
  },
  {
   "cell_type": "markdown",
   "metadata": {},
   "source": [
    "Intro to python 2 \"Words in common\" solution - mod 4"
   ]
  },
  {
   "cell_type": "code",
   "execution_count": null,
   "metadata": {},
   "outputs": [],
   "source": [
    "with open(\"english.txt\", \"r\") as english, open(\"french.txt\", \"r\") as french:\n",
    "    english_lines = english.read().split()\n",
    "    french_lines  = french.read().split()\n",
    "    \n",
    "    \n",
    "    common_words = set(english_lines) & set(french_lines)\n",
    "\n",
    "    for word in common_words:\n",
    "        print(word)"
   ]
  },
  {
   "cell_type": "markdown",
   "metadata": {},
   "source": [
    "Intro to python 2 \"Monolingual workplace\" solution - mod 4"
   ]
  },
  {
   "cell_type": "code",
   "execution_count": null,
   "metadata": {},
   "outputs": [],
   "source": [
    "monolinguals  = set()\n",
    "\n",
    "monolinguals = set(input(\"Line: \").split()[1:])\n",
    "\n",
    "# line = input(\"Line: \")\n",
    "\n",
    "done = False\n",
    "while done != True:\n",
    "    \n",
    "    line = input(\"Line: \")\n",
    "    if not line:\n",
    "        done = True\n",
    "    \n",
    "    names    = set(line.split()[1:])\n",
    "\n",
    "    for n in names:\n",
    "        if not n in monolinguals:\n",
    "            # print('if not names in monolinguals')\n",
    "            pass\n",
    "        else:\n",
    "            monolinguals = monolinguals - names\n",
    "    \n",
    "    # multilinguals.update(names)\n",
    "\n",
    "# Done\n",
    "if monolinguals:\n",
    "    for name in monolinguals:\n",
    "        print(f\"{name} is monolingual.\")\n",
    "else:\n",
    "    print('Everyone is multilingual!')"
   ]
  },
  {
   "cell_type": "markdown",
   "metadata": {},
   "source": [
    "Intro to python 2 \"Bigram counter\" solution - mod 4"
   ]
  },
  {
   "cell_type": "code",
   "execution_count": null,
   "metadata": {},
   "outputs": [],
   "source": [
    "input_lines = list()\n",
    "while True:\n",
    "    line = input(\"Line: \").strip()\n",
    "    if not line:\n",
    "        break\n",
    "    input_lines.append(line)\n",
    "    \n",
    "bigram_counts = dict()\n",
    "for line in input_lines:\n",
    "    words = line.lower().split()\n",
    "    for i in range(len(words) - 1 ):\n",
    "        bigram = (words[i], words[i + 1])\n",
    "        bigram_counts[bigram] = bigram_counts.get(bigram, 0) + 1\n",
    "\n",
    "frequent_bigrams = dict()\n",
    "for bigram, count in bigram_counts.items():\n",
    "    if count > 1:\n",
    "        frequent_bigrams[bigram] = count\n",
    "\n",
    "for bigram, frequency in frequent_bigrams.items():\n",
    "    print(f\"{bigram[0]} {bigram[1]}: {frequency}\")"
   ]
  },
  {
   "cell_type": "markdown",
   "metadata": {},
   "source": [
    "Intro to python 2 \"X marks the trail\" solution - mod 5"
   ]
  },
  {
   "cell_type": "code",
   "execution_count": null,
   "metadata": {},
   "outputs": [],
   "source": [
    "grid_size = int(input(\"Grid size: \"))\n",
    "\n",
    "def print_trail(table):\n",
    "    for row in table:\n",
    "        print(''.join(row))\n",
    "\n",
    "table = list()\n",
    "for i in range(0, grid_size):\n",
    "  row = list()\n",
    "  for j in range(0, grid_size):\n",
    "    row.append('.')\n",
    "  table.append(row)\n",
    "\n",
    "table[0][0] = 'x'\n",
    "current_coords = [0, 0]\n",
    "\n",
    "done = False\n",
    "while done != True:\n",
    "    \n",
    "    # Get current x position:\n",
    "    \n",
    "    print_trail(table)\n",
    "    direction = input(\"Direction: \")\n",
    "    \n",
    "    if not direction:\n",
    "        done = True\n",
    "    else:\n",
    "        if direction == 'right':\n",
    "            current_coords[1] +=1\n",
    "            table[current_coords[0]][current_coords[1]] = 'x'\n",
    "        if direction == 'down':\n",
    "            current_coords[0] +=1\n",
    "            table[current_coords[0]][current_coords[1]] = 'x'\n",
    "        if direction == 'left':\n",
    "            current_coords[1] -=1\n",
    "            table[current_coords[0]][current_coords[1]] = 'x'\n",
    "        if direction == 'up':\n",
    "            current_coords[0] -=1\n",
    "            table[current_coords[0]][current_coords[1]] = 'x'"
   ]
  },
  {
   "cell_type": "markdown",
   "metadata": {},
   "source": [
    "Intro to python 2 \"Favourite Dessert\" solution - mod 5"
   ]
  },
  {
   "cell_type": "code",
   "execution_count": null,
   "metadata": {},
   "outputs": [],
   "source": [
    "votes = list()\n",
    "while True:\n",
    "    vote = input(\"Name:vote \")\n",
    "    if not vote:\n",
    "        break\n",
    "    votes.append(vote)\n",
    "    \n",
    "dessert_votes = dict()\n",
    "for vote in votes:\n",
    "    name, dessert = vote.split(':')\n",
    "    dessert = dessert.strip()\n",
    "    if dessert not in dessert_votes:\n",
    "        dessert_votes[dessert] = []\n",
    "    dessert_votes[dessert].append(name)\n",
    "\n",
    "for dessert, voters in sorted(dessert_votes.items()):\n",
    "    num_votes = len(voters)\n",
    "    print(f\"{dessert} {num_votes} vote(s): {' '.join(voters)}\")"
   ]
  },
  {
   "cell_type": "markdown",
   "metadata": {},
   "source": [
    "Intro to python 2 \"Scissors Paper Rock Lizard Spock!\" solution - mod 5"
   ]
  },
  {
   "cell_type": "code",
   "execution_count": null,
   "metadata": {},
   "outputs": [],
   "source": [
    "hand1 = input(\"Hand 1: \").lower()\n",
    "hand2 = input(\"Hand 2: \").lower()\n",
    "\n",
    "# Define the rules:\n",
    "rules = {\n",
    "    ('rock', 'scissors'): 'Rock breaks Scissors',\n",
    "    ('scissors', 'paper'): 'Scissors cut Paper',\n",
    "    ('paper', 'rock'): 'Paper covers Rock',\n",
    "    ('rock', 'lizard'): 'Rock crushes Lizard',\n",
    "    ('lizard', 'spock'): 'Lizard poisons Spock',\n",
    "    ('spock', 'scissors'): 'Spock melts Scissors',\n",
    "    ('scissors', 'lizard'): 'Scissors decapitate Lizard',\n",
    "    ('lizard', 'paper'): 'Lizard eats Paper',\n",
    "    ('paper', 'spock'): 'Paper disproves Spock',\n",
    "    ('spock', 'rock'): 'Spock vaporizes Rock',\n",
    "    ('rock', 'scissors'): 'Rock breaks Scissors'\n",
    "}\n",
    "\n",
    "# Check for a tie:\n",
    "if hand1 == hand2:\n",
    "    print(\"Tie\")\n",
    "# Apply the rules\n",
    "elif (hand1, hand2) in rules:\n",
    "    print(rules[(hand1, hand2)])\n",
    "else:\n",
    "    print(rules[(hand2, hand1)])"
   ]
  },
  {
   "cell_type": "markdown",
   "metadata": {},
   "source": [
    "Intro to python 2 \"Pride, Prejudice and Jellicle Cats!\" solution - mod 5"
   ]
  },
  {
   "cell_type": "code",
   "execution_count": null,
   "metadata": {},
   "outputs": [],
   "source": [
    "from collections import Counter\n",
    "\n",
    "with open('novel.txt', 'r') as file:\n",
    "    text = file.read()\n",
    "\n",
    "word_counts = dict()\n",
    "for word in text.split():\n",
    "    word = word\n",
    "    if word[0].isupper():\n",
    "        current_count     = word_counts.get(word, 0)\n",
    "        word_counts[word] = current_count + 1\n",
    "    \n",
    "top_3 = Counter(word_counts).most_common(3) \n",
    "\n",
    "for w, v in top_3:\n",
    "    print(v, w)"
   ]
  },
  {
   "cell_type": "markdown",
   "metadata": {},
   "source": [
    "Intro to python 2 \"Australian Aboriginal languages translation\" solution - mod 6"
   ]
  },
  {
   "cell_type": "code",
   "execution_count": null,
   "metadata": {},
   "outputs": [],
   "source": [
    "dictionary = dict()\n",
    "with open('dictionary.txt', 'r') as file:\n",
    "    for line in file:\n",
    "        english, aboriginal = line.split(',')\n",
    "        dictionary[english] = aboriginal\n",
    "\n",
    "while True:\n",
    "    text = input(\"English: \")\n",
    "    if not text:\n",
    "        break\n",
    "    final = list()\n",
    "    for word in text.split():\n",
    "        final.append(dictionary[word].strip())\n",
    "    print(' '.join(final))"
   ]
  },
  {
   "cell_type": "markdown",
   "metadata": {},
   "source": [
    "Intro to python 2 \"Multilingual Scrabble Scorer\" solution - mod 6"
   ]
  },
  {
   "cell_type": "code",
   "execution_count": null,
   "metadata": {},
   "outputs": [],
   "source": [
    "# Get the scores of each letter:\n",
    "letter_scores = dict()\n",
    "with open('scrabble_letters.txt', 'r') as file:\n",
    "    for line in file:\n",
    "        score, letter = line.strip().split() \n",
    "        letter_scores[letter] = int(score)\n",
    "        \n",
    "word = input(\"Word: \")\n",
    "score = 0\n",
    "for c in word.upper():\n",
    "    score += letter_scores.get(c, 0)\n",
    "\n",
    "print(f\"{score} points\")"
   ]
  },
  {
   "cell_type": "markdown",
   "metadata": {},
   "source": [
    "Intro to python 2 \"And the winner is...\" solution - mod 6"
   ]
  },
  {
   "cell_type": "code",
   "execution_count": null,
   "metadata": {},
   "outputs": [],
   "source": [
    "import csv\n",
    "\n",
    "nominees = dict()\n",
    "with open('nominees.csv', 'r', newline='') as file:\n",
    "    reader = csv.reader(file)\n",
    "    next(reader)\n",
    "    \n",
    "    for row in reader:\n",
    "        title = row[0]\n",
    "        directors = row[1]\n",
    "        nominees[title] = directors\n",
    "\n",
    "winning_title = input(\"Winning title: \").strip()\n",
    "\n",
    "if winning_title in nominees:\n",
    "    print(f\"Congratulations: {nominees[winning_title]}\")\n",
    "else:\n",
    "    print(f\"No such nominee found.\")"
   ]
  },
  {
   "cell_type": "markdown",
   "metadata": {},
   "source": [
    "Intro to python 2 \"Generate Usernames\" solution - mod 6"
   ]
  },
  {
   "cell_type": "code",
   "execution_count": null,
   "metadata": {},
   "outputs": [],
   "source": [
    "usernames = list()\n",
    "\n",
    "with open('classlist.txt', 'r') as file:\n",
    "    for line in file:\n",
    "        line       = line.strip().split()\n",
    "        first_name = line[0].lower()\n",
    "        last_name  = line[-1].lower()\n",
    "        un = f\"{first_name}\"\n",
    "        if len(line) > 2:\n",
    "            middle_names = ''.join(line[1:-1]).lower()\n",
    "            un += middle_names\n",
    "        if un in usernames:\n",
    "            un = first_name + last_name[0]\n",
    "            if un in usernames:\n",
    "                for i in range(1, 10):\n",
    "                    un = first_name + last_name[0] + str(i)\n",
    "                    if un in usernames:\n",
    "                        pass\n",
    "                    else:\n",
    "                        break\n",
    "        usernames.append(un)\n",
    "                            \n",
    "for i in usernames:\n",
    "    print(i)"
   ]
  },
  {
   "cell_type": "markdown",
   "metadata": {},
   "source": [
    "Intro to python 2 \"Middle Number\" solution - mod 7"
   ]
  },
  {
   "cell_type": "code",
   "execution_count": null,
   "metadata": {},
   "outputs": [],
   "source": [
    "def find_middle(a, b, c):\n",
    "    \n",
    "    numbers = [a, b, c]\n",
    "    numbers.sort()\n",
    "    \n",
    "    return numbers[1]"
   ]
  },
  {
   "cell_type": "markdown",
   "metadata": {},
   "source": [
    "Intro to python 2 \"Den Svensk funkshun\" solution - mod 7"
   ]
  },
  {
   "cell_type": "code",
   "execution_count": null,
   "metadata": {},
   "outputs": [],
   "source": [
    "def eng2chef(input_string):\n",
    "    input_string = input_string.replace('tion', 'shun')\n",
    "    input_string = input_string.replace('an', 'un')\n",
    "    input_string = input_string.replace('th', 'z')\n",
    "    input_string = input_string.replace('v', 'f')\n",
    "    input_string = input_string.replace('w', 'v')\n",
    "    input_string = input_string.replace('c', 'k')\n",
    "    input_string = input_string.replace('o', 'oo')\n",
    "    input_string = input_string.replace('i', 'ee')\n",
    "    \n",
    "    if input_string.endswith('!'):\n",
    "        input_string = input_string[:-1] + '. bork bork bork!!'\n",
    "        \n",
    "    return input_string"
   ]
  },
  {
   "cell_type": "markdown",
   "metadata": {},
   "source": [
    "Intro to python 2 \"Wordy Numbers\" solution - mod 7"
   ]
  },
  {
   "cell_type": "code",
   "execution_count": null,
   "metadata": {},
   "outputs": [],
   "source": [
    "def words2number(s):\n",
    "    final = ''\n",
    "    words = s.split()\n",
    "    \n",
    "    for word in words:\n",
    "        if word == 'one':\n",
    "            final += '1'\n",
    "        if word == 'two':\n",
    "            final += '2'\n",
    "        if word == 'three':\n",
    "            final += '3'\n",
    "        if word == 'four':\n",
    "            final += '4'\n",
    "        if word == 'five':\n",
    "            final += '5'\n",
    "        if word == 'six':\n",
    "            final += '6'\n",
    "        if word == 'seven':\n",
    "            final += '7'\n",
    "        if word == 'eight':\n",
    "            final += '8'\n",
    "        if word == 'nine':\n",
    "            final += '9'\n",
    "        if word == 'zero':\n",
    "            final += '0'\n",
    "    return int(final)"
   ]
  },
  {
   "cell_type": "markdown",
   "metadata": {},
   "source": [
    "Intro to python 2 \"What Did Zou Saz?\" solution - mod 7"
   ]
  },
  {
   "cell_type": "code",
   "execution_count": null,
   "metadata": {},
   "outputs": [],
   "source": [
    "def fix_yz(input_string):\n",
    "    final = ''\n",
    "    for index, c in enumerate(input_string):\n",
    "        if c == 'y':\n",
    "            final += 'z'\n",
    "        elif c == 'z':\n",
    "            final += 'y'\n",
    "        elif c == 'Y':\n",
    "            final += 'Z'\n",
    "        elif c == 'Z':\n",
    "            final += 'Y'\n",
    "        else:\n",
    "            final += c\n",
    "        \n",
    "    return final"
   ]
  },
  {
   "cell_type": "markdown",
   "metadata": {},
   "source": [
    "Intro to python 2 \"Which karaoke songs are left?\" solution - mod 8"
   ]
  },
  {
   "cell_type": "code",
   "execution_count": null,
   "metadata": {},
   "outputs": [],
   "source": [
    "songlist = dict()\n",
    "lines = list()\n",
    "with open('songlist.txt', 'r') as file:\n",
    "    for line in file:\n",
    "        song, artist = line.split(', ')\n",
    "        songlist[song] = artist\n",
    "        lines.append(line)\n",
    "\n",
    "n = int(input(\"How many more songs? \")) * -1\n",
    "for i in range(-1, n - 1, -1):\n",
    "    print(lines[i], end='')"
   ]
  },
  {
   "cell_type": "markdown",
   "metadata": {},
   "source": [
    "Intro to python 2 \"Letters in the letterbox\" solution - mod 8"
   ]
  },
  {
   "cell_type": "code",
   "execution_count": null,
   "metadata": {},
   "outputs": [],
   "source": [
    "\n",
    "\n",
    "mail_dict = list()\n",
    "with open('mail.txt', 'r') as file:\n",
    "    for line in file:\n",
    "        name, item = line.strip().split(',')\n",
    "        mail_dict.append((name, item))\n",
    "\n",
    "name = input('Name: ')\n",
    "\n",
    "letters  = 0\n",
    "packages = 0\n",
    "for line in mail_dict:\n",
    "    if line[0] == name:\n",
    "        if line[1] == 'Letter':\n",
    "            letters += 1\n",
    "        if line[1] == 'Package':\n",
    "            packages += 1\n",
    "        \n",
    "if letters > 0 or packages > 0:\n",
    "    if letters == 1:\n",
    "        print('1 Letter')\n",
    "    if letters > 1:\n",
    "        print(f\"{letters} Letters\")\n",
    "    if letters == 0:\n",
    "        print(f\"No Letters\")\n",
    "\n",
    "    if packages == 1:\n",
    "        print('1 Package')\n",
    "    if packages > 1:\n",
    "        print(f\"{packages} Packages\")\n",
    "    if packages == 0:\n",
    "        print(f\"No Packages\")\n",
    "        \n",
    "else:\n",
    "    print('No mail')"
   ]
  },
  {
   "cell_type": "markdown",
   "metadata": {},
   "source": [
    "Intro to python 2 \"Guess the multiple of 7\" solution - mod 8"
   ]
  },
  {
   "cell_type": "code",
   "execution_count": null,
   "metadata": {},
   "outputs": [],
   "source": [
    "mistakes_made = 0\n",
    "\n",
    "for i in range(0, 10):\n",
    "    guess = int(input(\"Guess a multiple of 7: \"))\n",
    "    if guess % 7 != 0:\n",
    "        mistakes_made += 1\n",
    "        if mistakes_made > 1:\n",
    "            print('Another mistake. Too bad.')\n",
    "            break\n",
    "        else:\n",
    "            print(\"Mistake! That number isn't a multiple of 7.\")\n",
    "            mistakes_made += 1\n",
    "    else:\n",
    "        if guess == 42:\n",
    "            print('You won!')\n",
    "            break\n",
    "        else:\n",
    "            print('Nope!')\n",
    "else:\n",
    "    print('No guesses left!')\n",
    "print('That was fun.')"
   ]
  },
  {
   "cell_type": "markdown",
   "metadata": {},
   "source": [
    "Intro to python 2 \"Trending #Hashtags\" solution - mod 8"
   ]
  },
  {
   "cell_type": "code",
   "execution_count": null,
   "metadata": {},
   "outputs": [],
   "source": [
    "import string\n",
    "\n",
    "hashtags = dict()\n",
    "while True:\n",
    "    tweet = input('Tweet: ')\n",
    "    if not tweet:\n",
    "        break\n",
    "    \n",
    "    for word in tweet.split(' '):\n",
    "        if word and word[0] == '#':\n",
    "            word = word.replace(',', '').replace('!', '').replace('.', '').replace(':', '').lower()\n",
    "            current_count  = hashtags.get(word, 0)\n",
    "            hashtags[word] = current_count + 1\n",
    "\n",
    "for i in hashtags:\n",
    "    print(str(i) + ' ' + str(hashtags[i]))"
   ]
  }
 ],
 "metadata": {
  "kernelspec": {
   "display_name": "Python 3",
   "language": "python",
   "name": "python3"
  },
  "language_info": {
   "name": "python",
   "version": "3.12.1"
  }
 },
 "nbformat": 4,
 "nbformat_minor": 2
}
