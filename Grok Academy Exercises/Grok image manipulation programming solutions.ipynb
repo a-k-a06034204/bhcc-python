{
 "cells": [
  {
   "cell_type": "markdown",
   "metadata": {},
   "source": [
    "Image manipulation \"Count the Pixels\" solution - mod 1"
   ]
  },
  {
   "cell_type": "code",
   "execution_count": null,
   "metadata": {},
   "outputs": [],
   "source": [
    "from PIL import Image\n",
    "\n",
    "img = input('File name: ')\n",
    "\n",
    "img = Image.open(img)\n",
    "\n",
    "pixels = img.width * img.height\n",
    "pixels = str(pixels)\n",
    "\n",
    "print(pixels + \" pixels!\")"
   ]
  },
  {
   "cell_type": "markdown",
   "metadata": {},
   "source": [
    "Image manipulation \"Bright Pixels\" solution - mod 1"
   ]
  },
  {
   "cell_type": "code",
   "execution_count": null,
   "metadata": {},
   "outputs": [],
   "source": [
    "from PIL import Image\n",
    "\n",
    "pixels_with_a_value_of_200_or_higher = 0\n",
    "\n",
    "img = input('File name: ')\n",
    "img = Image.open(img)\n",
    "\n",
    "for y in range(img.height):\n",
    "  for x in range(img.width):\n",
    "    pixel = img.getpixel((x, y))\n",
    "    if pixel >= 200:\n",
    "      pixels_with_a_value_of_200_or_higher += 1\n",
    "print(f\"{str(pixels_with_a_value_of_200_or_higher)} pixels are bright.\")"
   ]
  },
  {
   "cell_type": "markdown",
   "metadata": {},
   "source": [
    "Image manipulation \"Brightening\" solution - mod 2"
   ]
  },
  {
   "cell_type": "code",
   "execution_count": null,
   "metadata": {},
   "outputs": [],
   "source": [
    "from PIL import Image\n",
    "img = Image.open(input('File name: '))\n",
    "\n",
    "pixels_with_a_value_of_200_or_higher = 0\n",
    "\n",
    "for x in range(img.width):\n",
    "  for y in range(img.height):\n",
    "    value = img.getpixel((x, y))\n",
    "    img.putpixel((x, y), value + 50)\n",
    "    if value >= 200:\n",
    "      pixels_with_a_value_of_200_or_higher += 1\n",
    "print(f\"{str(pixels_with_a_value_of_200_or_higher)} pixels are bright.\")\n",
    "\n",
    "\n",
    "\n",
    "img.save('output.png')"
   ]
  },
  {
   "cell_type": "markdown",
   "metadata": {},
   "source": [
    "Image manipulation \"Negatives\" solution - mod 2"
   ]
  },
  {
   "cell_type": "code",
   "execution_count": null,
   "metadata": {},
   "outputs": [],
   "source": [
    "from PIL import Image\n",
    "img = Image.open(input('File name: '))\n",
    "\n",
    "for x in range(img.width):\n",
    "  for y in range(img.height):\n",
    "    value = img.getpixel((x, y))\n",
    "    img.putpixel((x, y), 255 - value)\n",
    "\n",
    "img.save('output.png')"
   ]
  },
  {
   "cell_type": "markdown",
   "metadata": {},
   "source": [
    "Image manipulation \"Colour Madness!\" solution - mod 3"
   ]
  },
  {
   "cell_type": "code",
   "execution_count": null,
   "metadata": {},
   "outputs": [],
   "source": [
    "from PIL import Image\n",
    "img_name = input('File name: ')\n",
    "img = Image.open(img_name)\n",
    "\n",
    "red, green, blue = img.split()\n",
    "\n",
    "new_image = Image.merge('RGB', (green, red, blue))\n",
    "new_image.save('output.png')"
   ]
  },
  {
   "cell_type": "markdown",
   "metadata": {},
   "source": [
    "Image manipulation \"Colour Tinting\" solution - mod 3"
   ]
  },
  {
   "cell_type": "code",
   "execution_count": null,
   "metadata": {},
   "outputs": [],
   "source": [
    "from PIL import Image\n",
    "import numpy as np\n",
    "\n",
    "\n",
    "def adjust_pixels(pixels, adjustment):\n",
    "    new_pixels = pixels.copy()\n",
    "#    for x in range(pixels.width):\n",
    "#      for y in range(pixels.height):\n",
    "#        # print('Pixel: ' + str(x) , str(y))\n",
    "#        pixel = pixels.getpixel((x, y))\n",
    "#        new_pixels.putpixel((x, y), pixel + adjustment)\n",
    "    #new_pixels = np.array(new_pixels)\n",
    "    #new_pixels += adjustment\n",
    "    #return Image.fromarray(new_pixels)\n",
    "    return pixels.point(lambda p: p + adjustment)\n",
    "    # I could not figure out how to get this working without google. I tried using numpy and it gave weird results. My original solution above ran too slowly for grok because it kept kill\n",
    "\n",
    "# Get file:\n",
    "file_name  = input('File name: ')\n",
    "img = Image.open(file_name)\n",
    "red, green, blue = img.split()\n",
    "\n",
    "# Get adjustments:\n",
    "red_tint   = int(input('Red tint: '))\n",
    "green_tint = int(input('Green tint: '))\n",
    "blue_tint  = int(input('Blue tint: '))\n",
    "\n",
    "r = adjust_pixels(red,   red_tint)\n",
    "# print('red done')\n",
    "g = adjust_pixels(green, green_tint)\n",
    "# print('green done')\n",
    "b = adjust_pixels(blue,  blue_tint)\n",
    "\n",
    "\n",
    "new_image = Image.merge('RGB', (r, g, b)) \n",
    "new_image.save('output.png')"
   ]
  }
 ],
 "metadata": {
  "kernelspec": {
   "display_name": "Python 3",
   "language": "python",
   "name": "python3"
  },
  "language_info": {
   "name": "python",
   "version": "3.12.1"
  }
 },
 "nbformat": 4,
 "nbformat_minor": 2
}
