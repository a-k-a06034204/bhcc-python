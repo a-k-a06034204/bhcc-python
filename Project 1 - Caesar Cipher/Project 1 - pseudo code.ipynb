{
 "cells": [
  {
   "cell_type": "markdown",
   "metadata": {},
   "source": [
    "- Create a variable that holds the alphabet xyz='abcdefghijklmnopqrstuvwxyz'\n",
    "\n",
    "- Prompt for one of the three commands\n",
    "\n",
    "    - if command = e\n",
    "        - get string from the user\n",
    "        - get a rotation_integer from the user\n",
    "        - Make the cipher based on the rotation_integer\n",
    "        - encode the string:\n",
    "            - create a variable to hold the encoded_string\n",
    "            - for each character in the string:\n",
    "                - If the character is lowercase (isLower):\n",
    "                    - Find the normal alphabet index of the character. xyz.index(character) = index\n",
    "                    - Match the normal_index to the cipher index ciper[index] = new_letter\n",
    "                    - Add the new_letter from the cipher index to the encoded_string.\n",
    "                - If it is a capital letter:\n",
    "                    - Pass it through to the final string.\n",
    "        - Show the user the encoded_string\n",
    "\n",
    "\n",
    "    - if command = d\n",
    "        - get encoded_string from the user\n",
    "        - get a substring to find in the decoded_string\n",
    "        - Create a variable that holds the cipher_offset_found\n",
    "        - Create a variable that holds if we found the substring (true or false) was_found\n",
    "        - Create a variable to hold the decoded_string.\n",
    "        - For each rotation of the alphabet\n",
    "            - Create a variable with the current_cipher\n",
    "                - Create a variable with the first part of the alphabet\n",
    "                - Create a variable with the second part of the alphabet\n",
    "                - current_cipher = second_part + first_part\n",
    "            - for each character in the string:\n",
    "                - If the character is lowercase (isLower):\n",
    "                    - Find the cipher index of the character. current_cipher.index(character) = index\n",
    "                    - Match the normal_index to the cipher index xyz[index] = new_letter\n",
    "                    - Add the new_letter from the cipher index to the current_decoded_string.\n",
    "                - If it is a capital letter:\n",
    "                    - Add it to the current_decoded_string.\n",
    "            - With the current_decoded_string\n",
    "                - If substring in current_decoded_string\n",
    "                    - Set was_found to true\n",
    "                    - Set decoded_string to current_decoded_string\n",
    "                    - Set cipher_offset_found to current rotation of the alphabet\n",
    "        - if rotation not found, show an error\n",
    "\n",
    "    - if command = q\n",
    "        - display exit message\n",
    "        - exit out of system\n",
    "\n",
    "    - if command doesn't = any of the above then\n",
    "        - print an error\n",
    "        - repromt the question"
   ]
  }
 ],
 "metadata": {
  "language_info": {
   "name": "python"
  }
 },
 "nbformat": 4,
 "nbformat_minor": 2
}
